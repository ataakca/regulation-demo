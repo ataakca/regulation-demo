{
 "cells": [
  {
   "cell_type": "code",
   "execution_count": 132,
   "metadata": {},
   "outputs": [],
   "source": [
    "import pandas as pd\n",
    "import numpy as np\n",
    "\n",
    "from sklearn.linear_model import LinearRegression, LassoCV, RidgeCV\n",
    "from sklearn.preprocessing import StandardScaler, PolynomialFeatures\n",
    "from sklearn.model_selection import train_test_split, cross_val_score\n",
    "\n",
    "import statsmodels.api as sm\n",
    "\n",
    "import matplotlib.pyplot as plt"
   ]
  },
  {
   "cell_type": "markdown",
   "metadata": {},
   "source": [
    "# MPG dataset\n",
    "\n",
    "## Data Dictionary\n",
    "\n",
    "    1. mpg:           continuous\n",
    "    2. cylinders:     multi-valued discrete\n",
    "    3. displacement:  continuous\n",
    "    4. horsepower:    continuous\n",
    "    5. weight:        continuous\n",
    "    6. acceleration:  continuous\n",
    "    7. model year:    multi-valued discrete\n",
    "    8. origin:        multi-valued discrete\n",
    "    9. car name:      string (unique for each instance)"
   ]
  },
  {
   "cell_type": "code",
   "execution_count": 36,
   "metadata": {},
   "outputs": [
    {
     "data": {
      "text/html": [
       "<div>\n",
       "<style scoped>\n",
       "    .dataframe tbody tr th:only-of-type {\n",
       "        vertical-align: middle;\n",
       "    }\n",
       "\n",
       "    .dataframe tbody tr th {\n",
       "        vertical-align: top;\n",
       "    }\n",
       "\n",
       "    .dataframe thead th {\n",
       "        text-align: right;\n",
       "    }\n",
       "</style>\n",
       "<table border=\"1\" class=\"dataframe\">\n",
       "  <thead>\n",
       "    <tr style=\"text-align: right;\">\n",
       "      <th></th>\n",
       "      <th>mpg</th>\n",
       "      <th>cylinders</th>\n",
       "      <th>displacement</th>\n",
       "      <th>horsepower</th>\n",
       "      <th>weight</th>\n",
       "      <th>acceleration</th>\n",
       "      <th>model_year</th>\n",
       "      <th>origin</th>\n",
       "      <th>car_name</th>\n",
       "    </tr>\n",
       "  </thead>\n",
       "  <tbody>\n",
       "    <tr>\n",
       "      <td>0</td>\n",
       "      <td>18.0</td>\n",
       "      <td>8</td>\n",
       "      <td>307.0</td>\n",
       "      <td>130.0</td>\n",
       "      <td>3504.0</td>\n",
       "      <td>12.0</td>\n",
       "      <td>70.0</td>\n",
       "      <td>1</td>\n",
       "      <td>chevrolet chevelle malibu</td>\n",
       "    </tr>\n",
       "    <tr>\n",
       "      <td>1</td>\n",
       "      <td>15.0</td>\n",
       "      <td>8</td>\n",
       "      <td>350.0</td>\n",
       "      <td>165.0</td>\n",
       "      <td>3693.0</td>\n",
       "      <td>11.5</td>\n",
       "      <td>70.0</td>\n",
       "      <td>1</td>\n",
       "      <td>buick skylark 320</td>\n",
       "    </tr>\n",
       "    <tr>\n",
       "      <td>2</td>\n",
       "      <td>18.0</td>\n",
       "      <td>8</td>\n",
       "      <td>318.0</td>\n",
       "      <td>150.0</td>\n",
       "      <td>3436.0</td>\n",
       "      <td>11.0</td>\n",
       "      <td>70.0</td>\n",
       "      <td>1</td>\n",
       "      <td>plymouth satellite</td>\n",
       "    </tr>\n",
       "    <tr>\n",
       "      <td>3</td>\n",
       "      <td>16.0</td>\n",
       "      <td>8</td>\n",
       "      <td>304.0</td>\n",
       "      <td>150.0</td>\n",
       "      <td>3433.0</td>\n",
       "      <td>12.0</td>\n",
       "      <td>70.0</td>\n",
       "      <td>1</td>\n",
       "      <td>amc rebel sst</td>\n",
       "    </tr>\n",
       "    <tr>\n",
       "      <td>4</td>\n",
       "      <td>17.0</td>\n",
       "      <td>8</td>\n",
       "      <td>302.0</td>\n",
       "      <td>140.0</td>\n",
       "      <td>3449.0</td>\n",
       "      <td>10.5</td>\n",
       "      <td>70.0</td>\n",
       "      <td>1</td>\n",
       "      <td>ford torino</td>\n",
       "    </tr>\n",
       "  </tbody>\n",
       "</table>\n",
       "</div>"
      ],
      "text/plain": [
       "    mpg  cylinders  displacement  horsepower  weight  acceleration  \\\n",
       "0  18.0          8         307.0       130.0  3504.0          12.0   \n",
       "1  15.0          8         350.0       165.0  3693.0          11.5   \n",
       "2  18.0          8         318.0       150.0  3436.0          11.0   \n",
       "3  16.0          8         304.0       150.0  3433.0          12.0   \n",
       "4  17.0          8         302.0       140.0  3449.0          10.5   \n",
       "\n",
       "   model_year  origin                   car_name  \n",
       "0        70.0       1  chevrolet chevelle malibu  \n",
       "1        70.0       1          buick skylark 320  \n",
       "2        70.0       1         plymouth satellite  \n",
       "3        70.0       1              amc rebel sst  \n",
       "4        70.0       1                ford torino  "
      ]
     },
     "execution_count": 36,
     "metadata": {},
     "output_type": "execute_result"
    }
   ],
   "source": [
    "df = pd.read_csv('auto-mpg.data')\n",
    "df.drop(columns = 'junk', inplace = True)\n",
    "df.head()"
   ]
  },
  {
   "cell_type": "code",
   "execution_count": 37,
   "metadata": {},
   "outputs": [
    {
     "data": {
      "text/plain": [
       "(392, 9)"
      ]
     },
     "execution_count": 37,
     "metadata": {},
     "output_type": "execute_result"
    }
   ],
   "source": [
    "df.shape"
   ]
  },
  {
   "cell_type": "code",
   "execution_count": 38,
   "metadata": {},
   "outputs": [
    {
     "data": {
      "text/plain": [
       "mpg             float64\n",
       "cylinders         int64\n",
       "displacement    float64\n",
       "horsepower      float64\n",
       "weight          float64\n",
       "acceleration    float64\n",
       "model_year      float64\n",
       "origin            int64\n",
       "car_name         object\n",
       "dtype: object"
      ]
     },
     "execution_count": 38,
     "metadata": {},
     "output_type": "execute_result"
    }
   ],
   "source": [
    "df.dtypes"
   ]
  },
  {
   "cell_type": "markdown",
   "metadata": {},
   "source": [
    "## Features via Correlation"
   ]
  },
  {
   "cell_type": "code",
   "execution_count": 39,
   "metadata": {},
   "outputs": [
    {
     "data": {
      "text/html": [
       "<div>\n",
       "<style scoped>\n",
       "    .dataframe tbody tr th:only-of-type {\n",
       "        vertical-align: middle;\n",
       "    }\n",
       "\n",
       "    .dataframe tbody tr th {\n",
       "        vertical-align: top;\n",
       "    }\n",
       "\n",
       "    .dataframe thead th {\n",
       "        text-align: right;\n",
       "    }\n",
       "</style>\n",
       "<table border=\"1\" class=\"dataframe\">\n",
       "  <thead>\n",
       "    <tr style=\"text-align: right;\">\n",
       "      <th></th>\n",
       "      <th>mpg</th>\n",
       "    </tr>\n",
       "  </thead>\n",
       "  <tbody>\n",
       "    <tr>\n",
       "      <td>mpg</td>\n",
       "      <td>1.000000</td>\n",
       "    </tr>\n",
       "    <tr>\n",
       "      <td>model_year</td>\n",
       "      <td>0.580541</td>\n",
       "    </tr>\n",
       "    <tr>\n",
       "      <td>origin</td>\n",
       "      <td>0.565209</td>\n",
       "    </tr>\n",
       "    <tr>\n",
       "      <td>acceleration</td>\n",
       "      <td>0.423329</td>\n",
       "    </tr>\n",
       "    <tr>\n",
       "      <td>cylinders</td>\n",
       "      <td>-0.777618</td>\n",
       "    </tr>\n",
       "    <tr>\n",
       "      <td>horsepower</td>\n",
       "      <td>-0.778427</td>\n",
       "    </tr>\n",
       "    <tr>\n",
       "      <td>displacement</td>\n",
       "      <td>-0.805127</td>\n",
       "    </tr>\n",
       "    <tr>\n",
       "      <td>weight</td>\n",
       "      <td>-0.832244</td>\n",
       "    </tr>\n",
       "  </tbody>\n",
       "</table>\n",
       "</div>"
      ],
      "text/plain": [
       "                   mpg\n",
       "mpg           1.000000\n",
       "model_year    0.580541\n",
       "origin        0.565209\n",
       "acceleration  0.423329\n",
       "cylinders    -0.777618\n",
       "horsepower   -0.778427\n",
       "displacement -0.805127\n",
       "weight       -0.832244"
      ]
     },
     "execution_count": 39,
     "metadata": {},
     "output_type": "execute_result"
    }
   ],
   "source": [
    "df.corr()[['mpg']].sort_values(by='mpg', ascending = False)"
   ]
  },
  {
   "cell_type": "code",
   "execution_count": 40,
   "metadata": {},
   "outputs": [],
   "source": [
    "X = df.drop(['mpg', 'car_name'], axis = 1)\n",
    "y = df['mpg']\n",
    "\n",
    "X = sm.add_constant(X)\n",
    "\n",
    "model = sm.OLS(y, X).fit()"
   ]
  },
  {
   "cell_type": "code",
   "execution_count": 41,
   "metadata": {},
   "outputs": [
    {
     "data": {
      "text/html": [
       "<table class=\"simpletable\">\n",
       "<caption>OLS Regression Results</caption>\n",
       "<tr>\n",
       "  <th>Dep. Variable:</th>           <td>mpg</td>       <th>  R-squared:         </th> <td>   0.821</td> \n",
       "</tr>\n",
       "<tr>\n",
       "  <th>Model:</th>                   <td>OLS</td>       <th>  Adj. R-squared:    </th> <td>   0.818</td> \n",
       "</tr>\n",
       "<tr>\n",
       "  <th>Method:</th>             <td>Least Squares</td>  <th>  F-statistic:       </th> <td>   252.4</td> \n",
       "</tr>\n",
       "<tr>\n",
       "  <th>Date:</th>             <td>Fri, 10 Jan 2020</td> <th>  Prob (F-statistic):</th> <td>2.04e-139</td>\n",
       "</tr>\n",
       "<tr>\n",
       "  <th>Time:</th>                 <td>11:39:51</td>     <th>  Log-Likelihood:    </th> <td> -1023.5</td> \n",
       "</tr>\n",
       "<tr>\n",
       "  <th>No. Observations:</th>      <td>   392</td>      <th>  AIC:               </th> <td>   2063.</td> \n",
       "</tr>\n",
       "<tr>\n",
       "  <th>Df Residuals:</th>          <td>   384</td>      <th>  BIC:               </th> <td>   2095.</td> \n",
       "</tr>\n",
       "<tr>\n",
       "  <th>Df Model:</th>              <td>     7</td>      <th>                     </th>     <td> </td>    \n",
       "</tr>\n",
       "<tr>\n",
       "  <th>Covariance Type:</th>      <td>nonrobust</td>    <th>                     </th>     <td> </td>    \n",
       "</tr>\n",
       "</table>\n",
       "<table class=\"simpletable\">\n",
       "<tr>\n",
       "        <td></td>          <th>coef</th>     <th>std err</th>      <th>t</th>      <th>P>|t|</th>  <th>[0.025</th>    <th>0.975]</th>  \n",
       "</tr>\n",
       "<tr>\n",
       "  <th>const</th>        <td>  -17.2184</td> <td>    4.644</td> <td>   -3.707</td> <td> 0.000</td> <td>  -26.350</td> <td>   -8.087</td>\n",
       "</tr>\n",
       "<tr>\n",
       "  <th>cylinders</th>    <td>   -0.4934</td> <td>    0.323</td> <td>   -1.526</td> <td> 0.128</td> <td>   -1.129</td> <td>    0.142</td>\n",
       "</tr>\n",
       "<tr>\n",
       "  <th>displacement</th> <td>    0.0199</td> <td>    0.008</td> <td>    2.647</td> <td> 0.008</td> <td>    0.005</td> <td>    0.035</td>\n",
       "</tr>\n",
       "<tr>\n",
       "  <th>horsepower</th>   <td>   -0.0170</td> <td>    0.014</td> <td>   -1.230</td> <td> 0.220</td> <td>   -0.044</td> <td>    0.010</td>\n",
       "</tr>\n",
       "<tr>\n",
       "  <th>weight</th>       <td>   -0.0065</td> <td>    0.001</td> <td>   -9.929</td> <td> 0.000</td> <td>   -0.008</td> <td>   -0.005</td>\n",
       "</tr>\n",
       "<tr>\n",
       "  <th>acceleration</th> <td>    0.0806</td> <td>    0.099</td> <td>    0.815</td> <td> 0.415</td> <td>   -0.114</td> <td>    0.275</td>\n",
       "</tr>\n",
       "<tr>\n",
       "  <th>model_year</th>   <td>    0.7508</td> <td>    0.051</td> <td>   14.729</td> <td> 0.000</td> <td>    0.651</td> <td>    0.851</td>\n",
       "</tr>\n",
       "<tr>\n",
       "  <th>origin</th>       <td>    1.4261</td> <td>    0.278</td> <td>    5.127</td> <td> 0.000</td> <td>    0.879</td> <td>    1.973</td>\n",
       "</tr>\n",
       "</table>\n",
       "<table class=\"simpletable\">\n",
       "<tr>\n",
       "  <th>Omnibus:</th>       <td>31.906</td> <th>  Durbin-Watson:     </th> <td>   1.309</td>\n",
       "</tr>\n",
       "<tr>\n",
       "  <th>Prob(Omnibus):</th> <td> 0.000</td> <th>  Jarque-Bera (JB):  </th> <td>  53.100</td>\n",
       "</tr>\n",
       "<tr>\n",
       "  <th>Skew:</th>          <td> 0.529</td> <th>  Prob(JB):          </th> <td>2.95e-12</td>\n",
       "</tr>\n",
       "<tr>\n",
       "  <th>Kurtosis:</th>      <td> 4.460</td> <th>  Cond. No.          </th> <td>8.59e+04</td>\n",
       "</tr>\n",
       "</table><br/><br/>Warnings:<br/>[1] Standard Errors assume that the covariance matrix of the errors is correctly specified.<br/>[2] The condition number is large, 8.59e+04. This might indicate that there are<br/>strong multicollinearity or other numerical problems."
      ],
      "text/plain": [
       "<class 'statsmodels.iolib.summary.Summary'>\n",
       "\"\"\"\n",
       "                            OLS Regression Results                            \n",
       "==============================================================================\n",
       "Dep. Variable:                    mpg   R-squared:                       0.821\n",
       "Model:                            OLS   Adj. R-squared:                  0.818\n",
       "Method:                 Least Squares   F-statistic:                     252.4\n",
       "Date:                Fri, 10 Jan 2020   Prob (F-statistic):          2.04e-139\n",
       "Time:                        11:39:51   Log-Likelihood:                -1023.5\n",
       "No. Observations:                 392   AIC:                             2063.\n",
       "Df Residuals:                     384   BIC:                             2095.\n",
       "Df Model:                           7                                         \n",
       "Covariance Type:            nonrobust                                         \n",
       "================================================================================\n",
       "                   coef    std err          t      P>|t|      [0.025      0.975]\n",
       "--------------------------------------------------------------------------------\n",
       "const          -17.2184      4.644     -3.707      0.000     -26.350      -8.087\n",
       "cylinders       -0.4934      0.323     -1.526      0.128      -1.129       0.142\n",
       "displacement     0.0199      0.008      2.647      0.008       0.005       0.035\n",
       "horsepower      -0.0170      0.014     -1.230      0.220      -0.044       0.010\n",
       "weight          -0.0065      0.001     -9.929      0.000      -0.008      -0.005\n",
       "acceleration     0.0806      0.099      0.815      0.415      -0.114       0.275\n",
       "model_year       0.7508      0.051     14.729      0.000       0.651       0.851\n",
       "origin           1.4261      0.278      5.127      0.000       0.879       1.973\n",
       "==============================================================================\n",
       "Omnibus:                       31.906   Durbin-Watson:                   1.309\n",
       "Prob(Omnibus):                  0.000   Jarque-Bera (JB):               53.100\n",
       "Skew:                           0.529   Prob(JB):                     2.95e-12\n",
       "Kurtosis:                       4.460   Cond. No.                     8.59e+04\n",
       "==============================================================================\n",
       "\n",
       "Warnings:\n",
       "[1] Standard Errors assume that the covariance matrix of the errors is correctly specified.\n",
       "[2] The condition number is large, 8.59e+04. This might indicate that there are\n",
       "strong multicollinearity or other numerical problems.\n",
       "\"\"\""
      ]
     },
     "execution_count": 41,
     "metadata": {},
     "output_type": "execute_result"
    }
   ],
   "source": [
    "model.summary()"
   ]
  },
  {
   "cell_type": "markdown",
   "metadata": {},
   "source": [
    "# Creating Interaction Terms"
   ]
  },
  {
   "cell_type": "code",
   "execution_count": 42,
   "metadata": {},
   "outputs": [],
   "source": [
    "X = df.drop(['mpg', 'car_name'], axis = 1)"
   ]
  },
  {
   "cell_type": "code",
   "execution_count": 43,
   "metadata": {},
   "outputs": [],
   "source": [
    "poly = PolynomialFeatures()\n",
    "X_poly = poly.fit_transform(X)\n",
    "X_poly_features = poly.get_feature_names(X.columns)"
   ]
  },
  {
   "cell_type": "code",
   "execution_count": 44,
   "metadata": {},
   "outputs": [],
   "source": [
    "X_poly = pd.DataFrame(X_poly, columns = X_poly_features)"
   ]
  },
  {
   "cell_type": "code",
   "execution_count": 45,
   "metadata": {},
   "outputs": [
    {
     "name": "stderr",
     "output_type": "stream",
     "text": [
      "/Users/justinaugust/opt/miniconda3/lib/python3.7/site-packages/numpy/core/fromnumeric.py:2495: FutureWarning: Method .ptp is deprecated and will be removed in a future version. Use numpy.ptp instead.\n",
      "  return ptp(axis=axis, out=out, **kwargs)\n"
     ]
    }
   ],
   "source": [
    "y = df['mpg']\n",
    "X_poly = sm.add_constant(X_poly)\n",
    "\n",
    "model = sm.OLS(y, X_poly).fit()"
   ]
  },
  {
   "cell_type": "code",
   "execution_count": 46,
   "metadata": {},
   "outputs": [
    {
     "data": {
      "text/html": [
       "<table class=\"simpletable\">\n",
       "<caption>OLS Regression Results</caption>\n",
       "<tr>\n",
       "  <th>Dep. Variable:</th>           <td>mpg</td>       <th>  R-squared:         </th> <td>   0.895</td> \n",
       "</tr>\n",
       "<tr>\n",
       "  <th>Model:</th>                   <td>OLS</td>       <th>  Adj. R-squared:    </th> <td>   0.885</td> \n",
       "</tr>\n",
       "<tr>\n",
       "  <th>Method:</th>             <td>Least Squares</td>  <th>  F-statistic:       </th> <td>   86.99</td> \n",
       "</tr>\n",
       "<tr>\n",
       "  <th>Date:</th>             <td>Fri, 10 Jan 2020</td> <th>  Prob (F-statistic):</th> <td>1.96e-152</td>\n",
       "</tr>\n",
       "<tr>\n",
       "  <th>Time:</th>                 <td>11:39:57</td>     <th>  Log-Likelihood:    </th> <td> -918.86</td> \n",
       "</tr>\n",
       "<tr>\n",
       "  <th>No. Observations:</th>      <td>   392</td>      <th>  AIC:               </th> <td>   1910.</td> \n",
       "</tr>\n",
       "<tr>\n",
       "  <th>Df Residuals:</th>          <td>   356</td>      <th>  BIC:               </th> <td>   2053.</td> \n",
       "</tr>\n",
       "<tr>\n",
       "  <th>Df Model:</th>              <td>    35</td>      <th>                     </th>     <td> </td>    \n",
       "</tr>\n",
       "<tr>\n",
       "  <th>Covariance Type:</th>      <td>nonrobust</td>    <th>                     </th>     <td> </td>    \n",
       "</tr>\n",
       "</table>\n",
       "<table class=\"simpletable\">\n",
       "<tr>\n",
       "              <td></td>                 <th>coef</th>     <th>std err</th>      <th>t</th>      <th>P>|t|</th>  <th>[0.025</th>    <th>0.975]</th>  \n",
       "</tr>\n",
       "<tr>\n",
       "  <th>1</th>                         <td>  383.9269</td> <td>  100.585</td> <td>    3.817</td> <td> 0.000</td> <td>  186.110</td> <td>  581.743</td>\n",
       "</tr>\n",
       "<tr>\n",
       "  <th>cylinders</th>                 <td>    8.4359</td> <td>    8.660</td> <td>    0.974</td> <td> 0.331</td> <td>   -8.595</td> <td>   25.467</td>\n",
       "</tr>\n",
       "<tr>\n",
       "  <th>displacement</th>              <td>   -0.5903</td> <td>    0.193</td> <td>   -3.057</td> <td> 0.002</td> <td>   -0.970</td> <td>   -0.211</td>\n",
       "</tr>\n",
       "<tr>\n",
       "  <th>horsepower</th>                <td>    0.2059</td> <td>    0.397</td> <td>    0.519</td> <td> 0.604</td> <td>   -0.575</td> <td>    0.987</td>\n",
       "</tr>\n",
       "<tr>\n",
       "  <th>weight</th>                    <td>    0.0168</td> <td>    0.019</td> <td>    0.904</td> <td> 0.367</td> <td>   -0.020</td> <td>    0.053</td>\n",
       "</tr>\n",
       "<tr>\n",
       "  <th>acceleration</th>              <td>   -7.3501</td> <td>    2.586</td> <td>   -2.843</td> <td> 0.005</td> <td>  -12.435</td> <td>   -2.265</td>\n",
       "</tr>\n",
       "<tr>\n",
       "  <th>model_year</th>                <td>   -8.1099</td> <td>    2.230</td> <td>   -3.637</td> <td> 0.000</td> <td>  -12.495</td> <td>   -3.724</td>\n",
       "</tr>\n",
       "<tr>\n",
       "  <th>origin</th>                    <td>  -20.8036</td> <td>    7.301</td> <td>   -2.849</td> <td> 0.005</td> <td>  -35.163</td> <td>   -6.444</td>\n",
       "</tr>\n",
       "<tr>\n",
       "  <th>cylinders^2</th>               <td>   -0.5122</td> <td>    0.451</td> <td>   -1.135</td> <td> 0.257</td> <td>   -1.400</td> <td>    0.376</td>\n",
       "</tr>\n",
       "<tr>\n",
       "  <th>cylinders displacement</th>    <td>    0.0111</td> <td>    0.019</td> <td>    0.594</td> <td> 0.553</td> <td>   -0.026</td> <td>    0.048</td>\n",
       "</tr>\n",
       "<tr>\n",
       "  <th>cylinders horsepower</th>      <td>    0.0021</td> <td>    0.026</td> <td>    0.080</td> <td> 0.936</td> <td>   -0.049</td> <td>    0.054</td>\n",
       "</tr>\n",
       "<tr>\n",
       "  <th>cylinders weight</th>          <td>    0.0006</td> <td>    0.001</td> <td>    0.568</td> <td> 0.570</td> <td>   -0.002</td> <td>    0.003</td>\n",
       "</tr>\n",
       "<tr>\n",
       "  <th>cylinders acceleration</th>    <td>    0.2072</td> <td>    0.174</td> <td>    1.189</td> <td> 0.235</td> <td>   -0.135</td> <td>    0.550</td>\n",
       "</tr>\n",
       "<tr>\n",
       "  <th>cylinders model_year</th>      <td>   -0.1391</td> <td>    0.097</td> <td>   -1.430</td> <td> 0.154</td> <td>   -0.331</td> <td>    0.052</td>\n",
       "</tr>\n",
       "<tr>\n",
       "  <th>cylinders origin</th>          <td>    0.4796</td> <td>    0.560</td> <td>    0.857</td> <td> 0.392</td> <td>   -0.621</td> <td>    1.580</td>\n",
       "</tr>\n",
       "<tr>\n",
       "  <th>displacement^2</th>            <td>   -0.0001</td> <td>    0.000</td> <td>   -0.553</td> <td> 0.581</td> <td>   -0.001</td> <td>    0.000</td>\n",
       "</tr>\n",
       "<tr>\n",
       "  <th>displacement horsepower</th>   <td>    0.0005</td> <td>    0.000</td> <td>    1.127</td> <td> 0.260</td> <td>   -0.000</td> <td>    0.001</td>\n",
       "</tr>\n",
       "<tr>\n",
       "  <th>displacement weight</th>       <td> 1.163e-05</td> <td> 2.37e-05</td> <td>    0.491</td> <td> 0.624</td> <td>-3.49e-05</td> <td> 5.82e-05</td>\n",
       "</tr>\n",
       "<tr>\n",
       "  <th>displacement acceleration</th> <td>    0.0006</td> <td>    0.004</td> <td>    0.146</td> <td> 0.884</td> <td>   -0.007</td> <td>    0.008</td>\n",
       "</tr>\n",
       "<tr>\n",
       "  <th>displacement model_year</th>   <td>    0.0059</td> <td>    0.002</td> <td>    2.474</td> <td> 0.014</td> <td>    0.001</td> <td>    0.011</td>\n",
       "</tr>\n",
       "<tr>\n",
       "  <th>displacement origin</th>       <td>    0.0189</td> <td>    0.021</td> <td>    0.884</td> <td> 0.377</td> <td>   -0.023</td> <td>    0.061</td>\n",
       "</tr>\n",
       "<tr>\n",
       "  <th>horsepower^2</th>              <td>   -0.0003</td> <td>    0.001</td> <td>   -0.431</td> <td> 0.667</td> <td>   -0.001</td> <td>    0.001</td>\n",
       "</tr>\n",
       "<tr>\n",
       "  <th>horsepower weight</th>         <td>-2.645e-05</td> <td>  4.4e-05</td> <td>   -0.601</td> <td> 0.548</td> <td>   -0.000</td> <td> 6.01e-05</td>\n",
       "</tr>\n",
       "<tr>\n",
       "  <th>horsepower acceleration</th>   <td>   -0.0046</td> <td>    0.008</td> <td>   -0.570</td> <td> 0.569</td> <td>   -0.020</td> <td>    0.011</td>\n",
       "</tr>\n",
       "<tr>\n",
       "  <th>horsepower model_year</th>     <td>   -0.0023</td> <td>    0.004</td> <td>   -0.552</td> <td> 0.581</td> <td>   -0.011</td> <td>    0.006</td>\n",
       "</tr>\n",
       "<tr>\n",
       "  <th>horsepower origin</th>         <td>    0.0070</td> <td>    0.030</td> <td>    0.231</td> <td> 0.818</td> <td>   -0.052</td> <td>    0.066</td>\n",
       "</tr>\n",
       "<tr>\n",
       "  <th>weight^2</th>                  <td> 2.339e-07</td> <td> 1.09e-06</td> <td>    0.215</td> <td> 0.830</td> <td>-1.91e-06</td> <td> 2.37e-06</td>\n",
       "</tr>\n",
       "<tr>\n",
       "  <th>weight acceleration</th>       <td>-5.051e-06</td> <td>    0.000</td> <td>   -0.015</td> <td> 0.988</td> <td>   -0.001</td> <td>    0.001</td>\n",
       "</tr>\n",
       "<tr>\n",
       "  <th>weight model_year</th>         <td>   -0.0003</td> <td>    0.000</td> <td>   -1.499</td> <td> 0.135</td> <td>   -0.001</td> <td>    0.000</td>\n",
       "</tr>\n",
       "<tr>\n",
       "  <th>weight origin</th>             <td>   -0.0006</td> <td>    0.002</td> <td>   -0.375</td> <td> 0.708</td> <td>   -0.004</td> <td>    0.003</td>\n",
       "</tr>\n",
       "<tr>\n",
       "  <th>acceleration^2</th>            <td>    0.0356</td> <td>    0.035</td> <td>    1.012</td> <td> 0.312</td> <td>   -0.034</td> <td>    0.105</td>\n",
       "</tr>\n",
       "<tr>\n",
       "  <th>acceleration model_year</th>   <td>    0.0598</td> <td>    0.026</td> <td>    2.275</td> <td> 0.023</td> <td>    0.008</td> <td>    0.112</td>\n",
       "</tr>\n",
       "<tr>\n",
       "  <th>acceleration origin</th>       <td>    0.5025</td> <td>    0.157</td> <td>    3.203</td> <td> 0.001</td> <td>    0.194</td> <td>    0.811</td>\n",
       "</tr>\n",
       "<tr>\n",
       "  <th>model_year^2</th>              <td>    0.0559</td> <td>    0.014</td> <td>    4.119</td> <td> 0.000</td> <td>    0.029</td> <td>    0.083</td>\n",
       "</tr>\n",
       "<tr>\n",
       "  <th>model_year origin</th>         <td>    0.1390</td> <td>    0.073</td> <td>    1.904</td> <td> 0.058</td> <td>   -0.005</td> <td>    0.283</td>\n",
       "</tr>\n",
       "<tr>\n",
       "  <th>origin^2</th>                  <td>   -0.1943</td> <td>    0.494</td> <td>   -0.393</td> <td> 0.694</td> <td>   -1.166</td> <td>    0.777</td>\n",
       "</tr>\n",
       "</table>\n",
       "<table class=\"simpletable\">\n",
       "<tr>\n",
       "  <th>Omnibus:</th>       <td>49.310</td> <th>  Durbin-Watson:     </th> <td>   1.715</td>\n",
       "</tr>\n",
       "<tr>\n",
       "  <th>Prob(Omnibus):</th> <td> 0.000</td> <th>  Jarque-Bera (JB):  </th> <td> 140.797</td>\n",
       "</tr>\n",
       "<tr>\n",
       "  <th>Skew:</th>          <td> 0.578</td> <th>  Prob(JB):          </th> <td>2.67e-31</td>\n",
       "</tr>\n",
       "<tr>\n",
       "  <th>Kurtosis:</th>      <td> 5.699</td> <th>  Cond. No.          </th> <td>8.34e+09</td>\n",
       "</tr>\n",
       "</table><br/><br/>Warnings:<br/>[1] Standard Errors assume that the covariance matrix of the errors is correctly specified.<br/>[2] The condition number is large, 8.34e+09. This might indicate that there are<br/>strong multicollinearity or other numerical problems."
      ],
      "text/plain": [
       "<class 'statsmodels.iolib.summary.Summary'>\n",
       "\"\"\"\n",
       "                            OLS Regression Results                            \n",
       "==============================================================================\n",
       "Dep. Variable:                    mpg   R-squared:                       0.895\n",
       "Model:                            OLS   Adj. R-squared:                  0.885\n",
       "Method:                 Least Squares   F-statistic:                     86.99\n",
       "Date:                Fri, 10 Jan 2020   Prob (F-statistic):          1.96e-152\n",
       "Time:                        11:39:57   Log-Likelihood:                -918.86\n",
       "No. Observations:                 392   AIC:                             1910.\n",
       "Df Residuals:                     356   BIC:                             2053.\n",
       "Df Model:                          35                                         \n",
       "Covariance Type:            nonrobust                                         \n",
       "=============================================================================================\n",
       "                                coef    std err          t      P>|t|      [0.025      0.975]\n",
       "---------------------------------------------------------------------------------------------\n",
       "1                           383.9269    100.585      3.817      0.000     186.110     581.743\n",
       "cylinders                     8.4359      8.660      0.974      0.331      -8.595      25.467\n",
       "displacement                 -0.5903      0.193     -3.057      0.002      -0.970      -0.211\n",
       "horsepower                    0.2059      0.397      0.519      0.604      -0.575       0.987\n",
       "weight                        0.0168      0.019      0.904      0.367      -0.020       0.053\n",
       "acceleration                 -7.3501      2.586     -2.843      0.005     -12.435      -2.265\n",
       "model_year                   -8.1099      2.230     -3.637      0.000     -12.495      -3.724\n",
       "origin                      -20.8036      7.301     -2.849      0.005     -35.163      -6.444\n",
       "cylinders^2                  -0.5122      0.451     -1.135      0.257      -1.400       0.376\n",
       "cylinders displacement        0.0111      0.019      0.594      0.553      -0.026       0.048\n",
       "cylinders horsepower          0.0021      0.026      0.080      0.936      -0.049       0.054\n",
       "cylinders weight              0.0006      0.001      0.568      0.570      -0.002       0.003\n",
       "cylinders acceleration        0.2072      0.174      1.189      0.235      -0.135       0.550\n",
       "cylinders model_year         -0.1391      0.097     -1.430      0.154      -0.331       0.052\n",
       "cylinders origin              0.4796      0.560      0.857      0.392      -0.621       1.580\n",
       "displacement^2               -0.0001      0.000     -0.553      0.581      -0.001       0.000\n",
       "displacement horsepower       0.0005      0.000      1.127      0.260      -0.000       0.001\n",
       "displacement weight        1.163e-05   2.37e-05      0.491      0.624   -3.49e-05    5.82e-05\n",
       "displacement acceleration     0.0006      0.004      0.146      0.884      -0.007       0.008\n",
       "displacement model_year       0.0059      0.002      2.474      0.014       0.001       0.011\n",
       "displacement origin           0.0189      0.021      0.884      0.377      -0.023       0.061\n",
       "horsepower^2                 -0.0003      0.001     -0.431      0.667      -0.001       0.001\n",
       "horsepower weight         -2.645e-05    4.4e-05     -0.601      0.548      -0.000    6.01e-05\n",
       "horsepower acceleration      -0.0046      0.008     -0.570      0.569      -0.020       0.011\n",
       "horsepower model_year        -0.0023      0.004     -0.552      0.581      -0.011       0.006\n",
       "horsepower origin             0.0070      0.030      0.231      0.818      -0.052       0.066\n",
       "weight^2                   2.339e-07   1.09e-06      0.215      0.830   -1.91e-06    2.37e-06\n",
       "weight acceleration       -5.051e-06      0.000     -0.015      0.988      -0.001       0.001\n",
       "weight model_year            -0.0003      0.000     -1.499      0.135      -0.001       0.000\n",
       "weight origin                -0.0006      0.002     -0.375      0.708      -0.004       0.003\n",
       "acceleration^2                0.0356      0.035      1.012      0.312      -0.034       0.105\n",
       "acceleration model_year       0.0598      0.026      2.275      0.023       0.008       0.112\n",
       "acceleration origin           0.5025      0.157      3.203      0.001       0.194       0.811\n",
       "model_year^2                  0.0559      0.014      4.119      0.000       0.029       0.083\n",
       "model_year origin             0.1390      0.073      1.904      0.058      -0.005       0.283\n",
       "origin^2                     -0.1943      0.494     -0.393      0.694      -1.166       0.777\n",
       "==============================================================================\n",
       "Omnibus:                       49.310   Durbin-Watson:                   1.715\n",
       "Prob(Omnibus):                  0.000   Jarque-Bera (JB):              140.797\n",
       "Skew:                           0.578   Prob(JB):                     2.67e-31\n",
       "Kurtosis:                       5.699   Cond. No.                     8.34e+09\n",
       "==============================================================================\n",
       "\n",
       "Warnings:\n",
       "[1] Standard Errors assume that the covariance matrix of the errors is correctly specified.\n",
       "[2] The condition number is large, 8.34e+09. This might indicate that there are\n",
       "strong multicollinearity or other numerical problems.\n",
       "\"\"\""
      ]
     },
     "execution_count": 46,
     "metadata": {},
     "output_type": "execute_result"
    }
   ],
   "source": [
    "model.summary()"
   ]
  },
  {
   "cell_type": "markdown",
   "metadata": {},
   "source": [
    "# Apply Regularization to Aid in Feature Selection\n",
    "## Re-define X, y from original dataframe to drop the constant from `statsmodels`"
   ]
  },
  {
   "cell_type": "code",
   "execution_count": 94,
   "metadata": {},
   "outputs": [],
   "source": [
    "X = df.drop(['mpg', 'car_name'], axis = 1)\n",
    "y = df['mpg']"
   ]
  },
  {
   "cell_type": "markdown",
   "metadata": {},
   "source": [
    "## Re-create your polynomial features"
   ]
  },
  {
   "cell_type": "code",
   "execution_count": 95,
   "metadata": {},
   "outputs": [],
   "source": [
    "poly = PolynomialFeatures()\n",
    "\n",
    "X_poly = poly.fit_transform(X)\n",
    "X_poly_features = poly.get_feature_names(X.columns)\n",
    "\n",
    "X_poly = pd.DataFrame(X_poly, columns = X_poly_features)"
   ]
  },
  {
   "cell_type": "markdown",
   "metadata": {},
   "source": [
    "## Train, Test, Split"
   ]
  },
  {
   "cell_type": "code",
   "execution_count": 106,
   "metadata": {},
   "outputs": [],
   "source": [
    "X_train, X_test, y_train, y_test = train_test_split(X_poly, y, random_state = 737)"
   ]
  },
  {
   "cell_type": "markdown",
   "metadata": {},
   "source": [
    "## 👏🏻 Scale 👏🏻 Your 👏🏻 Data 👏🏻 "
   ]
  },
  {
   "cell_type": "code",
   "execution_count": 107,
   "metadata": {},
   "outputs": [],
   "source": [
    "ss = StandardScaler()"
   ]
  },
  {
   "cell_type": "code",
   "execution_count": 108,
   "metadata": {},
   "outputs": [],
   "source": [
    "X_train_sc = ss.fit_transform(X_train)\n",
    "X_test_sc = ss.transform(X_test)"
   ]
  },
  {
   "cell_type": "markdown",
   "metadata": {},
   "source": [
    "## RidgeCV"
   ]
  },
  {
   "cell_type": "code",
   "execution_count": 109,
   "metadata": {},
   "outputs": [
    {
     "data": {
      "text/plain": [
       "RidgeCV(alphas=array([ 0.1,  1. , 10. ]), cv=None, fit_intercept=True,\n",
       "        gcv_mode=None, normalize=False, scoring=None, store_cv_values=False)"
      ]
     },
     "execution_count": 109,
     "metadata": {},
     "output_type": "execute_result"
    }
   ],
   "source": [
    "ridge = RidgeCV()\n",
    "\n",
    "\n",
    "ridge.fit(X_train_sc, y_train)"
   ]
  },
  {
   "cell_type": "code",
   "execution_count": 110,
   "metadata": {},
   "outputs": [
    {
     "data": {
      "text/plain": [
       "0.8796072422873896"
      ]
     },
     "execution_count": 110,
     "metadata": {},
     "output_type": "execute_result"
    }
   ],
   "source": [
    "ridge.score(X_train_sc,y_train)"
   ]
  },
  {
   "cell_type": "code",
   "execution_count": 133,
   "metadata": {},
   "outputs": [
    {
     "data": {
      "text/plain": [
       "0.8799410577140421"
      ]
     },
     "execution_count": 133,
     "metadata": {},
     "output_type": "execute_result"
    }
   ],
   "source": [
    "ridge.score(X_test_sc, y_test)"
   ]
  },
  {
   "cell_type": "code",
   "execution_count": 135,
   "metadata": {},
   "outputs": [
    {
     "data": {
      "text/plain": [
       "0.8473555254510089"
      ]
     },
     "execution_count": 135,
     "metadata": {},
     "output_type": "execute_result"
    }
   ],
   "source": [
    "cross_val_score(ridge, X_train_sc, y_train, cv = 5).mean()"
   ]
  },
  {
   "cell_type": "code",
   "execution_count": 112,
   "metadata": {},
   "outputs": [
    {
     "data": {
      "text/plain": [
       "array([ 0.        , -1.1822314 , -1.72960207,  0.20692128, -1.94098065,\n",
       "       -2.43574053,  0.15199258, -0.67741491,  0.0060215 ,  0.48688085,\n",
       "        1.03625361,  2.02178937,  1.40141004, -2.1329727 ,  0.82137025,\n",
       "        0.42394056,  0.13945055,  1.49925689, -0.18652645, -2.20724045,\n",
       "        1.57430913,  1.4756173 ,  1.61500563, -1.31695291, -3.01509745,\n",
       "       -1.21178957,  1.5395934 , -0.88370442, -3.83794385, -0.31419722,\n",
       "        1.55898411,  0.56634201,  1.98187216,  3.91331553,  0.063782  ,\n",
       "       -1.53807146])"
      ]
     },
     "execution_count": 112,
     "metadata": {},
     "output_type": "execute_result"
    }
   ],
   "source": [
    "ridge.coef_"
   ]
  },
  {
   "cell_type": "code",
   "execution_count": 176,
   "metadata": {
    "scrolled": false
   },
   "outputs": [
    {
     "data": {
      "text/html": [
       "<div>\n",
       "<style scoped>\n",
       "    .dataframe tbody tr th:only-of-type {\n",
       "        vertical-align: middle;\n",
       "    }\n",
       "\n",
       "    .dataframe tbody tr th {\n",
       "        vertical-align: top;\n",
       "    }\n",
       "\n",
       "    .dataframe thead th {\n",
       "        text-align: right;\n",
       "    }\n",
       "</style>\n",
       "<table border=\"1\" class=\"dataframe\">\n",
       "  <thead>\n",
       "    <tr style=\"text-align: right;\">\n",
       "      <th></th>\n",
       "      <th>feature</th>\n",
       "      <th>coefficient</th>\n",
       "    </tr>\n",
       "  </thead>\n",
       "  <tbody>\n",
       "    <tr>\n",
       "      <td>28</td>\n",
       "      <td>weight model_year</td>\n",
       "      <td>-3.837944</td>\n",
       "    </tr>\n",
       "    <tr>\n",
       "      <td>24</td>\n",
       "      <td>horsepower model_year</td>\n",
       "      <td>-3.015097</td>\n",
       "    </tr>\n",
       "    <tr>\n",
       "      <td>5</td>\n",
       "      <td>acceleration</td>\n",
       "      <td>-2.435741</td>\n",
       "    </tr>\n",
       "    <tr>\n",
       "      <td>19</td>\n",
       "      <td>displacement model_year</td>\n",
       "      <td>-2.207240</td>\n",
       "    </tr>\n",
       "    <tr>\n",
       "      <td>13</td>\n",
       "      <td>cylinders model_year</td>\n",
       "      <td>-2.132973</td>\n",
       "    </tr>\n",
       "    <tr>\n",
       "      <td>4</td>\n",
       "      <td>weight</td>\n",
       "      <td>-1.940981</td>\n",
       "    </tr>\n",
       "    <tr>\n",
       "      <td>2</td>\n",
       "      <td>displacement</td>\n",
       "      <td>-1.729602</td>\n",
       "    </tr>\n",
       "    <tr>\n",
       "      <td>35</td>\n",
       "      <td>origin^2</td>\n",
       "      <td>-1.538071</td>\n",
       "    </tr>\n",
       "    <tr>\n",
       "      <td>23</td>\n",
       "      <td>horsepower acceleration</td>\n",
       "      <td>-1.316953</td>\n",
       "    </tr>\n",
       "    <tr>\n",
       "      <td>25</td>\n",
       "      <td>horsepower origin</td>\n",
       "      <td>-1.211790</td>\n",
       "    </tr>\n",
       "    <tr>\n",
       "      <td>1</td>\n",
       "      <td>cylinders</td>\n",
       "      <td>-1.182231</td>\n",
       "    </tr>\n",
       "    <tr>\n",
       "      <td>27</td>\n",
       "      <td>weight acceleration</td>\n",
       "      <td>-0.883704</td>\n",
       "    </tr>\n",
       "    <tr>\n",
       "      <td>7</td>\n",
       "      <td>origin</td>\n",
       "      <td>-0.677415</td>\n",
       "    </tr>\n",
       "    <tr>\n",
       "      <td>29</td>\n",
       "      <td>weight origin</td>\n",
       "      <td>-0.314197</td>\n",
       "    </tr>\n",
       "    <tr>\n",
       "      <td>18</td>\n",
       "      <td>displacement acceleration</td>\n",
       "      <td>-0.186526</td>\n",
       "    </tr>\n",
       "    <tr>\n",
       "      <td>0</td>\n",
       "      <td>1</td>\n",
       "      <td>0.000000</td>\n",
       "    </tr>\n",
       "    <tr>\n",
       "      <td>8</td>\n",
       "      <td>cylinders^2</td>\n",
       "      <td>0.006022</td>\n",
       "    </tr>\n",
       "    <tr>\n",
       "      <td>34</td>\n",
       "      <td>model_year origin</td>\n",
       "      <td>0.063782</td>\n",
       "    </tr>\n",
       "    <tr>\n",
       "      <td>16</td>\n",
       "      <td>displacement horsepower</td>\n",
       "      <td>0.139451</td>\n",
       "    </tr>\n",
       "    <tr>\n",
       "      <td>6</td>\n",
       "      <td>model_year</td>\n",
       "      <td>0.151993</td>\n",
       "    </tr>\n",
       "    <tr>\n",
       "      <td>3</td>\n",
       "      <td>horsepower</td>\n",
       "      <td>0.206921</td>\n",
       "    </tr>\n",
       "    <tr>\n",
       "      <td>15</td>\n",
       "      <td>displacement^2</td>\n",
       "      <td>0.423941</td>\n",
       "    </tr>\n",
       "    <tr>\n",
       "      <td>9</td>\n",
       "      <td>cylinders displacement</td>\n",
       "      <td>0.486881</td>\n",
       "    </tr>\n",
       "    <tr>\n",
       "      <td>31</td>\n",
       "      <td>acceleration model_year</td>\n",
       "      <td>0.566342</td>\n",
       "    </tr>\n",
       "    <tr>\n",
       "      <td>14</td>\n",
       "      <td>cylinders origin</td>\n",
       "      <td>0.821370</td>\n",
       "    </tr>\n",
       "    <tr>\n",
       "      <td>10</td>\n",
       "      <td>cylinders horsepower</td>\n",
       "      <td>1.036254</td>\n",
       "    </tr>\n",
       "    <tr>\n",
       "      <td>12</td>\n",
       "      <td>cylinders acceleration</td>\n",
       "      <td>1.401410</td>\n",
       "    </tr>\n",
       "    <tr>\n",
       "      <td>21</td>\n",
       "      <td>horsepower^2</td>\n",
       "      <td>1.475617</td>\n",
       "    </tr>\n",
       "    <tr>\n",
       "      <td>17</td>\n",
       "      <td>displacement weight</td>\n",
       "      <td>1.499257</td>\n",
       "    </tr>\n",
       "    <tr>\n",
       "      <td>26</td>\n",
       "      <td>weight^2</td>\n",
       "      <td>1.539593</td>\n",
       "    </tr>\n",
       "    <tr>\n",
       "      <td>30</td>\n",
       "      <td>acceleration^2</td>\n",
       "      <td>1.558984</td>\n",
       "    </tr>\n",
       "    <tr>\n",
       "      <td>20</td>\n",
       "      <td>displacement origin</td>\n",
       "      <td>1.574309</td>\n",
       "    </tr>\n",
       "    <tr>\n",
       "      <td>22</td>\n",
       "      <td>horsepower weight</td>\n",
       "      <td>1.615006</td>\n",
       "    </tr>\n",
       "    <tr>\n",
       "      <td>32</td>\n",
       "      <td>acceleration origin</td>\n",
       "      <td>1.981872</td>\n",
       "    </tr>\n",
       "    <tr>\n",
       "      <td>11</td>\n",
       "      <td>cylinders weight</td>\n",
       "      <td>2.021789</td>\n",
       "    </tr>\n",
       "    <tr>\n",
       "      <td>33</td>\n",
       "      <td>model_year^2</td>\n",
       "      <td>3.913316</td>\n",
       "    </tr>\n",
       "  </tbody>\n",
       "</table>\n",
       "</div>"
      ],
      "text/plain": [
       "                      feature  coefficient\n",
       "28          weight model_year    -3.837944\n",
       "24      horsepower model_year    -3.015097\n",
       "5                acceleration    -2.435741\n",
       "19    displacement model_year    -2.207240\n",
       "13       cylinders model_year    -2.132973\n",
       "4                      weight    -1.940981\n",
       "2                displacement    -1.729602\n",
       "35                   origin^2    -1.538071\n",
       "23    horsepower acceleration    -1.316953\n",
       "25          horsepower origin    -1.211790\n",
       "1                   cylinders    -1.182231\n",
       "27        weight acceleration    -0.883704\n",
       "7                      origin    -0.677415\n",
       "29              weight origin    -0.314197\n",
       "18  displacement acceleration    -0.186526\n",
       "0                           1     0.000000\n",
       "8                 cylinders^2     0.006022\n",
       "34          model_year origin     0.063782\n",
       "16    displacement horsepower     0.139451\n",
       "6                  model_year     0.151993\n",
       "3                  horsepower     0.206921\n",
       "15             displacement^2     0.423941\n",
       "9      cylinders displacement     0.486881\n",
       "31    acceleration model_year     0.566342\n",
       "14           cylinders origin     0.821370\n",
       "10       cylinders horsepower     1.036254\n",
       "12     cylinders acceleration     1.401410\n",
       "21               horsepower^2     1.475617\n",
       "17        displacement weight     1.499257\n",
       "26                   weight^2     1.539593\n",
       "30             acceleration^2     1.558984\n",
       "20        displacement origin     1.574309\n",
       "22          horsepower weight     1.615006\n",
       "32        acceleration origin     1.981872\n",
       "11           cylinders weight     2.021789\n",
       "33               model_year^2     3.913316"
      ]
     },
     "execution_count": 176,
     "metadata": {},
     "output_type": "execute_result"
    }
   ],
   "source": [
    "pd.DataFrame(zip(X_poly_features, ridge.coef_), columns = ['feature', 'coefficient'] ).sort_values(by='coefficient')"
   ]
  },
  {
   "cell_type": "markdown",
   "metadata": {},
   "source": [
    "### How do we interpret these coefficients?\n",
    "\n",
    "### What features might you remove? How would you make that decision?"
   ]
  },
  {
   "cell_type": "code",
   "execution_count": null,
   "metadata": {},
   "outputs": [],
   "source": []
  },
  {
   "cell_type": "markdown",
   "metadata": {},
   "source": [
    "## Lasso"
   ]
  },
  {
   "cell_type": "code",
   "execution_count": 144,
   "metadata": {},
   "outputs": [],
   "source": [
    "lasso = LassoCV(max_iter = 10_000)\n",
    "lasso = lasso.fit(X_train_sc, y_train)"
   ]
  },
  {
   "cell_type": "code",
   "execution_count": 121,
   "metadata": {},
   "outputs": [
    {
     "data": {
      "text/plain": [
       "array([ 0.        , -0.        , -0.        , -0.        , -0.        ,\n",
       "       -0.        ,  0.        , -0.        ,  0.        ,  0.        ,\n",
       "        0.        ,  0.3500881 ,  0.        , -0.        ,  0.39373241,\n",
       "        0.        ,  0.        ,  0.        , -0.29193781, -0.49049979,\n",
       "        0.4065819 ,  1.21738567,  3.77100667, -1.91188114, -2.93243834,\n",
       "       -0.31548885,  2.97453561, -0.        , -7.86494997,  0.        ,\n",
       "        0.52758228,  0.        ,  1.49407715,  4.486823  ,  0.        ,\n",
       "       -1.29158231])"
      ]
     },
     "execution_count": 121,
     "metadata": {},
     "output_type": "execute_result"
    }
   ],
   "source": [
    "lasso.coef_"
   ]
  },
  {
   "cell_type": "code",
   "execution_count": 122,
   "metadata": {},
   "outputs": [
    {
     "data": {
      "text/plain": [
       "0.8768432233942446"
      ]
     },
     "execution_count": 122,
     "metadata": {},
     "output_type": "execute_result"
    }
   ],
   "source": [
    "lasso.score(X_train_sc,y_train)"
   ]
  },
  {
   "cell_type": "code",
   "execution_count": 142,
   "metadata": {},
   "outputs": [
    {
     "data": {
      "text/plain": [
       "0.8763553653889857"
      ]
     },
     "execution_count": 142,
     "metadata": {},
     "output_type": "execute_result"
    }
   ],
   "source": [
    "lasso.score(X_test_sc,y_test)"
   ]
  },
  {
   "cell_type": "code",
   "execution_count": 145,
   "metadata": {},
   "outputs": [
    {
     "data": {
      "text/plain": [
       "0.8520710168638768"
      ]
     },
     "execution_count": 145,
     "metadata": {},
     "output_type": "execute_result"
    }
   ],
   "source": [
    "cross_val_score(lasso, X_train_sc, y_train, cv = 5).mean()"
   ]
  },
  {
   "cell_type": "code",
   "execution_count": 125,
   "metadata": {},
   "outputs": [
    {
     "data": {
      "text/html": [
       "<div>\n",
       "<style scoped>\n",
       "    .dataframe tbody tr th:only-of-type {\n",
       "        vertical-align: middle;\n",
       "    }\n",
       "\n",
       "    .dataframe tbody tr th {\n",
       "        vertical-align: top;\n",
       "    }\n",
       "\n",
       "    .dataframe thead th {\n",
       "        text-align: right;\n",
       "    }\n",
       "</style>\n",
       "<table border=\"1\" class=\"dataframe\">\n",
       "  <thead>\n",
       "    <tr style=\"text-align: right;\">\n",
       "      <th></th>\n",
       "      <th>feature</th>\n",
       "      <th>coefficient</th>\n",
       "    </tr>\n",
       "  </thead>\n",
       "  <tbody>\n",
       "    <tr>\n",
       "      <td>28</td>\n",
       "      <td>weight model_year</td>\n",
       "      <td>-7.864950</td>\n",
       "    </tr>\n",
       "    <tr>\n",
       "      <td>24</td>\n",
       "      <td>horsepower model_year</td>\n",
       "      <td>-2.932438</td>\n",
       "    </tr>\n",
       "    <tr>\n",
       "      <td>23</td>\n",
       "      <td>horsepower acceleration</td>\n",
       "      <td>-1.911881</td>\n",
       "    </tr>\n",
       "    <tr>\n",
       "      <td>35</td>\n",
       "      <td>origin^2</td>\n",
       "      <td>-1.291582</td>\n",
       "    </tr>\n",
       "    <tr>\n",
       "      <td>19</td>\n",
       "      <td>displacement model_year</td>\n",
       "      <td>-0.490500</td>\n",
       "    </tr>\n",
       "    <tr>\n",
       "      <td>25</td>\n",
       "      <td>horsepower origin</td>\n",
       "      <td>-0.315489</td>\n",
       "    </tr>\n",
       "    <tr>\n",
       "      <td>18</td>\n",
       "      <td>displacement acceleration</td>\n",
       "      <td>-0.291938</td>\n",
       "    </tr>\n",
       "    <tr>\n",
       "      <td>31</td>\n",
       "      <td>acceleration model_year</td>\n",
       "      <td>0.000000</td>\n",
       "    </tr>\n",
       "    <tr>\n",
       "      <td>29</td>\n",
       "      <td>weight origin</td>\n",
       "      <td>0.000000</td>\n",
       "    </tr>\n",
       "    <tr>\n",
       "      <td>27</td>\n",
       "      <td>weight acceleration</td>\n",
       "      <td>-0.000000</td>\n",
       "    </tr>\n",
       "    <tr>\n",
       "      <td>34</td>\n",
       "      <td>model_year origin</td>\n",
       "      <td>0.000000</td>\n",
       "    </tr>\n",
       "    <tr>\n",
       "      <td>16</td>\n",
       "      <td>displacement horsepower</td>\n",
       "      <td>0.000000</td>\n",
       "    </tr>\n",
       "    <tr>\n",
       "      <td>15</td>\n",
       "      <td>displacement^2</td>\n",
       "      <td>0.000000</td>\n",
       "    </tr>\n",
       "    <tr>\n",
       "      <td>0</td>\n",
       "      <td>1</td>\n",
       "      <td>0.000000</td>\n",
       "    </tr>\n",
       "    <tr>\n",
       "      <td>6</td>\n",
       "      <td>model_year</td>\n",
       "      <td>0.000000</td>\n",
       "    </tr>\n",
       "    <tr>\n",
       "      <td>1</td>\n",
       "      <td>cylinders</td>\n",
       "      <td>-0.000000</td>\n",
       "    </tr>\n",
       "    <tr>\n",
       "      <td>2</td>\n",
       "      <td>displacement</td>\n",
       "      <td>-0.000000</td>\n",
       "    </tr>\n",
       "    <tr>\n",
       "      <td>3</td>\n",
       "      <td>horsepower</td>\n",
       "      <td>-0.000000</td>\n",
       "    </tr>\n",
       "    <tr>\n",
       "      <td>4</td>\n",
       "      <td>weight</td>\n",
       "      <td>-0.000000</td>\n",
       "    </tr>\n",
       "    <tr>\n",
       "      <td>5</td>\n",
       "      <td>acceleration</td>\n",
       "      <td>-0.000000</td>\n",
       "    </tr>\n",
       "    <tr>\n",
       "      <td>13</td>\n",
       "      <td>cylinders model_year</td>\n",
       "      <td>-0.000000</td>\n",
       "    </tr>\n",
       "    <tr>\n",
       "      <td>7</td>\n",
       "      <td>origin</td>\n",
       "      <td>-0.000000</td>\n",
       "    </tr>\n",
       "    <tr>\n",
       "      <td>17</td>\n",
       "      <td>displacement weight</td>\n",
       "      <td>0.000000</td>\n",
       "    </tr>\n",
       "    <tr>\n",
       "      <td>8</td>\n",
       "      <td>cylinders^2</td>\n",
       "      <td>0.000000</td>\n",
       "    </tr>\n",
       "    <tr>\n",
       "      <td>9</td>\n",
       "      <td>cylinders displacement</td>\n",
       "      <td>0.000000</td>\n",
       "    </tr>\n",
       "    <tr>\n",
       "      <td>10</td>\n",
       "      <td>cylinders horsepower</td>\n",
       "      <td>0.000000</td>\n",
       "    </tr>\n",
       "    <tr>\n",
       "      <td>12</td>\n",
       "      <td>cylinders acceleration</td>\n",
       "      <td>0.000000</td>\n",
       "    </tr>\n",
       "    <tr>\n",
       "      <td>11</td>\n",
       "      <td>cylinders weight</td>\n",
       "      <td>0.350088</td>\n",
       "    </tr>\n",
       "    <tr>\n",
       "      <td>14</td>\n",
       "      <td>cylinders origin</td>\n",
       "      <td>0.393732</td>\n",
       "    </tr>\n",
       "    <tr>\n",
       "      <td>20</td>\n",
       "      <td>displacement origin</td>\n",
       "      <td>0.406582</td>\n",
       "    </tr>\n",
       "    <tr>\n",
       "      <td>30</td>\n",
       "      <td>acceleration^2</td>\n",
       "      <td>0.527582</td>\n",
       "    </tr>\n",
       "    <tr>\n",
       "      <td>21</td>\n",
       "      <td>horsepower^2</td>\n",
       "      <td>1.217386</td>\n",
       "    </tr>\n",
       "    <tr>\n",
       "      <td>32</td>\n",
       "      <td>acceleration origin</td>\n",
       "      <td>1.494077</td>\n",
       "    </tr>\n",
       "    <tr>\n",
       "      <td>26</td>\n",
       "      <td>weight^2</td>\n",
       "      <td>2.974536</td>\n",
       "    </tr>\n",
       "    <tr>\n",
       "      <td>22</td>\n",
       "      <td>horsepower weight</td>\n",
       "      <td>3.771007</td>\n",
       "    </tr>\n",
       "    <tr>\n",
       "      <td>33</td>\n",
       "      <td>model_year^2</td>\n",
       "      <td>4.486823</td>\n",
       "    </tr>\n",
       "  </tbody>\n",
       "</table>\n",
       "</div>"
      ],
      "text/plain": [
       "                      feature  coefficient\n",
       "28          weight model_year    -7.864950\n",
       "24      horsepower model_year    -2.932438\n",
       "23    horsepower acceleration    -1.911881\n",
       "35                   origin^2    -1.291582\n",
       "19    displacement model_year    -0.490500\n",
       "25          horsepower origin    -0.315489\n",
       "18  displacement acceleration    -0.291938\n",
       "31    acceleration model_year     0.000000\n",
       "29              weight origin     0.000000\n",
       "27        weight acceleration    -0.000000\n",
       "34          model_year origin     0.000000\n",
       "16    displacement horsepower     0.000000\n",
       "15             displacement^2     0.000000\n",
       "0                           1     0.000000\n",
       "6                  model_year     0.000000\n",
       "1                   cylinders    -0.000000\n",
       "2                displacement    -0.000000\n",
       "3                  horsepower    -0.000000\n",
       "4                      weight    -0.000000\n",
       "5                acceleration    -0.000000\n",
       "13       cylinders model_year    -0.000000\n",
       "7                      origin    -0.000000\n",
       "17        displacement weight     0.000000\n",
       "8                 cylinders^2     0.000000\n",
       "9      cylinders displacement     0.000000\n",
       "10       cylinders horsepower     0.000000\n",
       "12     cylinders acceleration     0.000000\n",
       "11           cylinders weight     0.350088\n",
       "14           cylinders origin     0.393732\n",
       "20        displacement origin     0.406582\n",
       "30             acceleration^2     0.527582\n",
       "21               horsepower^2     1.217386\n",
       "32        acceleration origin     1.494077\n",
       "26                   weight^2     2.974536\n",
       "22          horsepower weight     3.771007\n",
       "33               model_year^2     4.486823"
      ]
     },
     "execution_count": 125,
     "metadata": {},
     "output_type": "execute_result"
    }
   ],
   "source": [
    "pd.DataFrame(zip(X_poly_features, lasso.coef_), columns = ['feature', 'coefficient'] ).sort_values(by='coefficient')"
   ]
  },
  {
   "cell_type": "markdown",
   "metadata": {},
   "source": [
    "### How do we interpret these coefficients?\n",
    "\n",
    "### What features might you remove? How would you make that decision?"
   ]
  },
  {
   "cell_type": "markdown",
   "metadata": {},
   "source": [
    "# Extra, Streeeeeeetch\n",
    "## Recreating the `statsmodels` `.summary()` output to get p-values for your features\n",
    "\n",
    "### _Liberally lifted from and based on https://stackoverflow.com/a/42677750_"
   ]
  },
  {
   "cell_type": "code",
   "execution_count": 130,
   "metadata": {},
   "outputs": [],
   "source": [
    "from scipy import stats"
   ]
  },
  {
   "cell_type": "code",
   "execution_count": 173,
   "metadata": {},
   "outputs": [],
   "source": [
    "def model_summary(estimator, X, y):\n",
    "    \n",
    "    X_train, X_test, y_train, y_test = train_test_split(X,y, random_state = 737)\n",
    "    \n",
    "    ss = StandardScaler()\n",
    "    X_train_sc = ss.fit_transform(X_train)\n",
    "    X_test_sc = ss.transform(X_test)\n",
    "    \n",
    "    model = estimator()\n",
    "    if LassoCV:\n",
    "        model = estimator(max_iter = 10_000)\n",
    "    model.fit(X_train_sc,y_train)\n",
    "    \n",
    "    print(f'Training Score: {model.score(X_train_sc,y_train)}')\n",
    "    print(f'Testing Score: {model.score(X_test_sc,y_test)}')\n",
    "    print(f'Cross Validation Score: {cross_val_score(model, X_train_sc, y_train).mean()}\\n')\n",
    "    \n",
    "    \n",
    "    params = np.append(model.intercept_,model.coef_)\n",
    "    predictions = model.predict(X_train_sc)\n",
    "\n",
    "    newX = pd.DataFrame({\"Constant\":np.ones(len(X))}).join(pd.DataFrame(X))\n",
    "    MSE = (sum((y_train-predictions)**2))/(len(newX)-len(newX.columns))\n",
    "\n",
    "    # Note if you don't want to use a DataFrame replace the two lines above with\n",
    "#     newX = np.append(np.ones((len(X),1)), X, axis=1)\n",
    "#     MSE = (sum((y-predictions)**2))/(len(newX)-len(newX[0]))\n",
    "\n",
    "    var_b = MSE*(np.linalg.inv(np.dot(newX.T,newX)).diagonal())\n",
    "    sd_b = np.sqrt(var_b)\n",
    "    ts_b = params/ sd_b\n",
    "\n",
    "    p_values =[2*(1-stats.t.cdf(np.abs(i),(len(newX)-1))) for i in ts_b]\n",
    "\n",
    "    sd_b = np.round(sd_b,3)\n",
    "    ts_b = np.round(ts_b,3)\n",
    "    p_values = np.round(p_values,3)\n",
    "    params = np.round(params,4)\n",
    "\n",
    "    myDF3 = pd.DataFrame()\n",
    "    myDF3[\"Coefficients\"],myDF3[\"Standard Errors\"],myDF3[\"t values\"],myDF3[\"Probabilites\"] = [params,sd_b,ts_b,p_values]\n",
    "    print(myDF3)"
   ]
  },
  {
   "cell_type": "code",
   "execution_count": 174,
   "metadata": {},
   "outputs": [],
   "source": [
    "X = df.drop(['mpg', 'car_name'], axis = 1)\n",
    "y = df['mpg']\n",
    "\n",
    "poly = PolynomialFeatures()\n",
    "\n",
    "X_poly = poly.fit_transform(X)\n",
    "X_poly_features = poly.get_feature_names(X.columns)\n",
    "\n",
    "X_poly = pd.DataFrame(X_poly, columns = X_poly_features)"
   ]
  },
  {
   "cell_type": "code",
   "execution_count": 175,
   "metadata": {},
   "outputs": [
    {
     "name": "stdout",
     "output_type": "stream",
     "text": [
      "Training Score: 0.8768432233942446\n",
      "Testing Score: 0.8763553653889857\n",
      "Cross Validation Score: 0.8520710168638768\n",
      "\n",
      "    Coefficients  Standard Errors     t values  Probabilites\n",
      "0        23.5480              NaN          NaN           NaN\n",
      "1         0.0000              NaN          NaN           NaN\n",
      "2        -0.0000            7.921       -0.000         1.000\n",
      "3        -0.0000            0.160       -0.000         1.000\n",
      "4        -0.0000            0.156       -0.000         1.000\n",
      "5        -0.0000            0.019       -0.000         1.000\n",
      "6        -0.0000            2.792       -0.000         1.000\n",
      "7         0.0000              NaN          NaN           NaN\n",
      "8        -0.0000            8.555       -0.000         1.000\n",
      "9         0.0000            0.475        0.000         1.000\n",
      "10        0.0000            0.031        0.000         1.000\n",
      "11        0.0000            0.024        0.000         1.000\n",
      "12        0.3501            0.001      336.573         0.000\n",
      "13        0.0000            0.098        0.000         1.000\n",
      "14       -0.0000            0.092       -0.000         1.000\n",
      "15        0.3937            0.570        0.691         0.490\n",
      "16        0.0000            0.000        0.000         1.000\n",
      "17        0.0000            0.000        0.000         1.000\n",
      "18        0.0000            0.000        0.000         1.000\n",
      "19       -0.2919              NaN          NaN           NaN\n",
      "20       -0.4905            0.002     -203.405         0.000\n",
      "21        0.4066              NaN          NaN           NaN\n",
      "22        1.2174            0.000    11346.718         0.000\n",
      "23        3.7710              NaN          NaN           NaN\n",
      "24       -1.9119              NaN          NaN           NaN\n",
      "25       -2.9324            0.004     -746.502         0.000\n",
      "26       -0.3155            0.045       -6.942         0.000\n",
      "27        2.9745            0.000  2581423.920         0.000\n",
      "28       -0.0000            0.000       -0.000         1.000\n",
      "29       -7.8649            0.000   -38880.285         0.000\n",
      "30        0.0000            0.002        0.000         1.000\n",
      "31        0.5276            0.046       11.448         0.000\n",
      "32        0.0000            0.011        0.000         1.000\n",
      "33        1.4941            0.160        9.336         0.000\n",
      "34        4.4868            0.012      389.881         0.000\n",
      "35        0.0000            0.080        0.000         1.000\n",
      "36       -1.2916            0.544       -2.373         0.018\n"
     ]
    },
    {
     "name": "stderr",
     "output_type": "stream",
     "text": [
      "/Users/justinaugust/opt/miniconda3/lib/python3.7/site-packages/ipykernel_launcher.py:30: RuntimeWarning: invalid value encountered in sqrt\n"
     ]
    }
   ],
   "source": [
    "model_summary(LassoCV, X_poly, y)"
   ]
  },
  {
   "cell_type": "code",
   "execution_count": null,
   "metadata": {},
   "outputs": [],
   "source": []
  }
 ],
 "metadata": {
  "kernelspec": {
   "display_name": "Python [conda env:root] *",
   "language": "python",
   "name": "conda-root-py"
  },
  "language_info": {
   "codemirror_mode": {
    "name": "ipython",
    "version": 3
   },
   "file_extension": ".py",
   "mimetype": "text/x-python",
   "name": "python",
   "nbconvert_exporter": "python",
   "pygments_lexer": "ipython3",
   "version": "3.7.3"
  }
 },
 "nbformat": 4,
 "nbformat_minor": 2
}
